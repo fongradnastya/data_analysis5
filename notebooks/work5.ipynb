{
 "cells": [
  {
   "cell_type": "markdown",
   "source": [
    "# Практическая работа №5\n",
    "## Тема: Ансамбли моделей\n",
    "Выполнила Фонград Анастасия КИ21-16/1б"
   ],
   "metadata": {
    "collapsed": false,
    "pycharm": {
     "name": "#%% md\n"
    }
   }
  },
  {
   "cell_type": "code",
   "execution_count": 1,
   "outputs": [],
   "source": [
    "import pandas as pd\n",
    "import matplotlib.pyplot as plt\n",
    "from sklearn.preprocessing import MinMaxScaler, LabelEncoder\n",
    "from sklearn.model_selection import train_test_split\n",
    "from imblearn.over_sampling import KMeansSMOTE\n",
    "from sklearn.ensemble import BaggingClassifier, RandomForestClassifier\n",
    "from sklearn.ensemble import AdaBoostClassifier, GradientBoostingClassifier\n",
    "from sklearn.ensemble import StackingClassifier\n",
    "\n",
    "import warnings\n",
    "warnings.filterwarnings(\"ignore\")"
   ],
   "metadata": {
    "collapsed": false,
    "pycharm": {
     "name": "#%%\n"
    }
   }
  },
  {
   "cell_type": "code",
   "execution_count": 2,
   "outputs": [],
   "source": [
    "class_train = pd.read_csv(\"C:/Users/fongr/Documents/Мои документы/Второй курс/python/lab5/data/train_2.csv\")\n",
    "class_test = pd.read_csv(\"C:/Users/fongr/Documents/Мои документы/Второй курс/python/lab5/data/test_2.csv\")\n",
    "regression_train = pd.read_csv(\"C:/Users/fongr/Documents/Мои документы/Второй курс/python/lab5/data/train_3.csv\")\n",
    "regression_test = pd.read_csv(\"C:/Users/fongr/Documents/Мои документы/Второй курс/python/lab5/data/test_3.csv\")"
   ],
   "metadata": {
    "collapsed": false,
    "pycharm": {
     "name": "#%%\n"
    }
   }
  },
  {
   "cell_type": "markdown",
   "source": [
    "## Предварительная обработка данных\n",
    "Для задачи классификации"
   ],
   "metadata": {
    "collapsed": false,
    "pycharm": {
     "name": "#%% md\n"
    }
   }
  },
  {
   "cell_type": "code",
   "execution_count": 3,
   "outputs": [
    {
     "name": "stdout",
     "output_type": "stream",
     "text": [
      "<class 'pandas.core.frame.DataFrame'>\n",
      "RangeIndex: 229292 entries, 0 to 229291\n",
      "Data columns (total 11 columns):\n",
      " #   Column                Non-Null Count   Dtype   \n",
      "---  ------                --------------   -----   \n",
      " 0   Gender                229292 non-null  category\n",
      " 1   Age                   229292 non-null  float64 \n",
      " 2   Driving_License       229292 non-null  float64 \n",
      " 3   Region_Code           229292 non-null  float64 \n",
      " 4   Previously_Insured    229292 non-null  float64 \n",
      " 5   Vehicle_Age           229292 non-null  category\n",
      " 6   Vehicle_Damage        229292 non-null  category\n",
      " 7   Annual_Premium        229292 non-null  float64 \n",
      " 8   Policy_Sales_Channel  229292 non-null  float64 \n",
      " 9   Vintage               229292 non-null  float64 \n",
      " 10  Response              229292 non-null  int64   \n",
      "dtypes: category(3), float64(7), int64(1)\n",
      "memory usage: 14.7 MB\n"
     ]
    }
   ],
   "source": [
    "class_cat = [\"Gender\", \"Vehicle_Age\", \"Vehicle_Damage\"]\n",
    "class_num = [\"Age\", \"Driving_License\", \"Previously_Insured\", \"Region_Code\", \"Annual_Premium\", \"Policy_Sales_Channel\", \"Vintage\"]\n",
    "class_all = class_num + class_cat\n",
    "class_result = \"Response\"\n",
    "class_train.drop(\"id\", axis=1, inplace=True)\n",
    "class_test.drop(\"id\", axis=1, inplace=True)\n",
    "# Кодирование категориальных признаков\n",
    "le = LabelEncoder()\n",
    "for column in class_cat:\n",
    "    class_train[column] = le.fit_transform(class_train[column])\n",
    "    class_test[column] = le.fit_transform(class_test[column])\n",
    "    class_train[column] = class_train[column].astype(\"category\")\n",
    "    class_test[column] = class_test[column].astype(\"category\")\n",
    "# Нормализация числовых признаков\n",
    "scaler = MinMaxScaler()\n",
    "class_train[class_num] = scaler.fit_transform(class_train[class_num])\n",
    "class_test[class_num] = scaler.fit_transform(class_test[class_num])\n",
    "class_train.info()"
   ],
   "metadata": {
    "collapsed": false,
    "pycharm": {
     "name": "#%%\n"
    }
   }
  },
  {
   "cell_type": "markdown",
   "source": [
    "Отбросим часть тренировочной выборки"
   ],
   "metadata": {
    "collapsed": false,
    "pycharm": {
     "name": "#%% md\n"
    }
   }
  },
  {
   "cell_type": "code",
   "execution_count": 4,
   "outputs": [
    {
     "name": "stdout",
     "output_type": "stream",
     "text": [
      "<class 'pandas.core.frame.DataFrame'>\n",
      "Int64Index: 20000 entries, 117950 to 178735\n",
      "Data columns (total 11 columns):\n",
      " #   Column                Non-Null Count  Dtype   \n",
      "---  ------                --------------  -----   \n",
      " 0   Gender                20000 non-null  category\n",
      " 1   Age                   20000 non-null  float64 \n",
      " 2   Driving_License       20000 non-null  float64 \n",
      " 3   Region_Code           20000 non-null  float64 \n",
      " 4   Previously_Insured    20000 non-null  float64 \n",
      " 5   Vehicle_Age           20000 non-null  category\n",
      " 6   Vehicle_Damage        20000 non-null  category\n",
      " 7   Annual_Premium        20000 non-null  float64 \n",
      " 8   Policy_Sales_Channel  20000 non-null  float64 \n",
      " 9   Vintage               20000 non-null  float64 \n",
      " 10  Response              20000 non-null  int64   \n",
      "dtypes: category(3), float64(7), int64(1)\n",
      "memory usage: 1.4 MB\n"
     ]
    }
   ],
   "source": [
    "number_of_elements = 20000  # Количество элементов\n",
    "class_train = class_train.sample(n=number_of_elements, replace=False)\n",
    "class_train.info()"
   ],
   "metadata": {
    "collapsed": false,
    "pycharm": {
     "name": "#%%\n"
    }
   }
  },
  {
   "cell_type": "markdown",
   "source": [
    "Пред обработка для задачи регрессии"
   ],
   "metadata": {
    "collapsed": false,
    "pycharm": {
     "name": "#%% md\n"
    }
   }
  },
  {
   "cell_type": "code",
   "execution_count": 5,
   "outputs": [
    {
     "name": "stdout",
     "output_type": "stream",
     "text": [
      "<class 'pandas.core.frame.DataFrame'>\n",
      "RangeIndex: 808 entries, 0 to 807\n",
      "Data columns (total 43 columns):\n",
      " #   Column                     Non-Null Count  Dtype  \n",
      "---  ------                     --------------  -----  \n",
      " 0   Количество.комнат          808 non-null    int64  \n",
      " 1   Студия                     808 non-null    int64  \n",
      " 2   Общая.площадь              808 non-null    float64\n",
      " 3   Этаж                       808 non-null    float64\n",
      " 4   Этажей.в.доме              808 non-null    float64\n",
      " 5   Парковка                   808 non-null    int64  \n",
      " 6   Дизайнерский               808 non-null    int64  \n",
      " 7   Евроремонт                 808 non-null    int64  \n",
      " 8   Косметический              808 non-null    int64  \n",
      " 9   Балкон                     808 non-null    int64  \n",
      " 10  Лоджия                     808 non-null    int64  \n",
      " 11  Раздельный.санузел         808 non-null    int64  \n",
      " 12  Лифт                       808 non-null    int64  \n",
      " 13  Грузовой.лифт              808 non-null    int64  \n",
      " 14  Мусоропровод               808 non-null    int64  \n",
      " 15  Год.постройки              808 non-null    float64\n",
      " 16  Аварийный                  808 non-null    int64  \n",
      " 17  Железобетонные.перекрытия  808 non-null    int64  \n",
      " 18  Смешанные.перекрытия       808 non-null    int64  \n",
      " 19  Деревянные.перекрытия      808 non-null    int64  \n",
      " 20  Панельные.стены            808 non-null    int64  \n",
      " 21  Блочные.стены              808 non-null    int64  \n",
      " 22  Деревянные.стены           808 non-null    int64  \n",
      " 23  Кирпичные.стены            808 non-null    int64  \n",
      " 24  Монолитные.стены           808 non-null    int64  \n",
      " 25  Школа.1000                 808 non-null    float64\n",
      " 26  ВУЗ.1000                   808 non-null    float64\n",
      " 27  ТЦ.1000                    808 non-null    float64\n",
      " 28  Стоматология.1000          808 non-null    float64\n",
      " 29  Почта.1000                 808 non-null    float64\n",
      " 30  Поликлиника.1000           808 non-null    float64\n",
      " 31  Парк.1000                  808 non-null    int64  \n",
      " 32  Остановка.1000             808 non-null    float64\n",
      " 33  Одежда..1000               808 non-null    float64\n",
      " 34  Супер3кет.1000             808 non-null    float64\n",
      " 35  Кинотеатр.1000             808 non-null    int64  \n",
      " 36  Кафе.1000                  808 non-null    float64\n",
      " 37  АЗС.1000                   808 non-null    float64\n",
      " 38  Детский.сад.1000           808 non-null    float64\n",
      " 39  Бар.1000                   808 non-null    float64\n",
      " 40  Банк.1000                  808 non-null    float64\n",
      " 41  Аптека.1000                808 non-null    float64\n",
      " 42  Цена                       808 non-null    float64\n",
      "dtypes: float64(20), int64(23)\n",
      "memory usage: 271.6 KB\n"
     ]
    }
   ],
   "source": [
    "regression_result = 'Цена'\n",
    "regression_train.drop(\"id\", axis=1, inplace=True)\n",
    "regression_test.drop(\"id\", axis=1, inplace=True)\n",
    "# Удаляем некоторые категориальные признаки для избежания ловушки фиктивных переменных\n",
    "regression_train.drop(\"Без.ремонта\", axis=1, inplace=True)\n",
    "regression_train.drop(\"Совмещенный.санузел\", axis=1, inplace=True)\n",
    "regression_train.drop(\"Смешанные.стены\", axis=1, inplace=True)\n",
    "regression_train.drop(\"Иные.перекрытия\", axis=1, inplace=True)\n",
    "# Разделение на числовые и категориальные\n",
    "regression_num = []\n",
    "regression_cat = []\n",
    "for name in regression_train.columns:\n",
    "    if regression_train[name].nunique() > 5:\n",
    "        regression_num.append(name)\n",
    "    else:\n",
    "        regression_cat.append(name)\n",
    "regression_num.remove(regression_result)\n",
    "regression_all = regression_num + regression_cat\n",
    "# Нормализация числовых признаков\n",
    "scaler = MinMaxScaler()\n",
    "regression_train[regression_num] = scaler.fit_transform(regression_train[regression_num])\n",
    "regression_test[regression_num] = scaler.fit_transform(regression_test[regression_num])\n",
    "regression_train.info()"
   ],
   "metadata": {
    "collapsed": false,
    "pycharm": {
     "name": "#%%\n"
    }
   }
  },
  {
   "cell_type": "markdown",
   "source": [
    "## Сэмплирование данных"
   ],
   "metadata": {
    "collapsed": false,
    "pycharm": {
     "name": "#%% md\n"
    }
   }
  },
  {
   "cell_type": "code",
   "execution_count": 6,
   "outputs": [],
   "source": [
    "def build_response_graph(column):\n",
    "    \"\"\"\n",
    "    Строит распределение классов в выборке\n",
    "    :param column: массив рассматриваемых значений\n",
    "    \"\"\"\n",
    "    plt.pie(column.value_counts(), labels=(0, 1))\n",
    "    plt.title(\"Распределение значения response в выборке\")\n",
    "    plt.legend((0, 1))\n",
    "    plt.show()"
   ],
   "metadata": {
    "collapsed": false,
    "pycharm": {
     "name": "#%%\n"
    }
   }
  },
  {
   "cell_type": "code",
   "execution_count": 7,
   "outputs": [
    {
     "data": {
      "text/plain": "<Figure size 640x480 with 1 Axes>",
      "image/png": "[encoded data removed]"
     },
     "metadata": {},
     "output_type": "display_data"
    }
   ],
   "source": [
    "build_response_graph(class_train[class_result])"
   ],
   "metadata": {
    "collapsed": false,
    "pycharm": {
     "name": "#%%\n"
    }
   }
  },
  {
   "cell_type": "code",
   "execution_count": 8,
   "outputs": [
    {
     "data": {
      "text/plain": "<Figure size 640x480 with 1 Axes>",
      "image/png": "[encoded data removed]"
     },
     "metadata": {},
     "output_type": "display_data"
    }
   ],
   "source": [
    "x = class_train[class_all]\n",
    "y = class_train[class_result]\n",
    "x, y = KMeansSMOTE(cluster_balance_threshold=0.3).fit_resample(x, y)\n",
    "build_response_graph(y)"
   ],
   "metadata": {
    "collapsed": false,
    "pycharm": {
     "name": "#%%\n"
    }
   }
  },
  {
   "cell_type": "markdown",
   "source": [
    "Разобьём выборки на train и test"
   ],
   "metadata": {
    "collapsed": false,
    "pycharm": {
     "name": "#%% md\n"
    }
   }
  },
  {
   "cell_type": "code",
   "execution_count": 9,
   "outputs": [],
   "source": [
    "x_train_c, x_test_c, y_train_c, y_test_c = train_test_split(x, y, test_size=0.3, random_state=7)\n",
    "x = regression_train[regression_all]\n",
    "y = regression_train[regression_result]\n",
    "x_train_r, x_test_r, y_train_r, y_test_r = train_test_split(x, y, test_size=0.3, random_state=7)"
   ],
   "metadata": {
    "collapsed": false,
    "pycharm": {
     "name": "#%%\n"
    }
   }
  },
  {
   "cell_type": "markdown",
   "source": [
    "## Построение ансамблей моделей"
   ],
   "metadata": {
    "collapsed": false,
    "pycharm": {
     "name": "#%% md\n"
    }
   }
  },
  {
   "cell_type": "code",
   "execution_count": null,
   "outputs": [],
   "source": [],
   "metadata": {
    "collapsed": false,
    "pycharm": {
     "name": "#%%\n"
    }
   }
  }
 ],
 "metadata": {
  "kernelspec": {
   "display_name": "Python 3",
   "language": "python",
   "name": "python3"
  },
  "language_info": {
   "codemirror_mode": {
    "name": "ipython",
    "version": 2
   },
   "file_extension": ".py",
   "mimetype": "text/x-python",
   "name": "python",
   "nbconvert_exporter": "python",
   "pygments_lexer": "ipython2",
   "version": "2.7.6"
  }
 },
 "nbformat": 4,
 "nbformat_minor": 0
}