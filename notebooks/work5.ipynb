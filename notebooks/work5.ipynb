{
 "cells": [
  {
   "cell_type": "markdown",
   "source": [
    "# Практическая работа №5\n",
    "## Тема: Ансамбли моделей\n",
    "Выполнила Фонград Анастасия КИ21-16/1б"
   ],
   "metadata": {
    "collapsed": false,
    "pycharm": {
     "name": "#%% md\n"
    }
   }
  },
  {
   "cell_type": "code",
   "execution_count": 2,
   "outputs": [],
   "source": [
    "import pandas as pd\n",
    "import matplotlib.pyplot as plt\n",
    "import warnings\n",
    "warnings.filterwarnings(\"ignore\")"
   ],
   "metadata": {
    "collapsed": false,
    "pycharm": {
     "name": "#%%\n"
    }
   }
  },
  {
   "cell_type": "code",
   "execution_count": 3,
   "outputs": [],
   "source": [
    "class_train = pd.read_csv(\"C:/Users/fongr/Documents/Мои документы/Второй курс/python/lab5/data/train_2.csv\")\n",
    "class_test = pd.read_csv(\"C:/Users/fongr/Documents/Мои документы/Второй курс/python/lab5/data/test_2.csv\")\n",
    "regression_train = pd.read_csv(\"C:/Users/fongr/Documents/Мои документы/Второй курс/python/lab5/data/train_3.csv\")\n",
    "regression_test = pd.read_csv(\"C:/Users/fongr/Documents/Мои документы/Второй курс/python/lab5/data/test_3.csv\")"
   ],
   "metadata": {
    "collapsed": false,
    "pycharm": {
     "name": "#%%\n"
    }
   }
  },
  {
   "cell_type": "code",
   "execution_count": null,
   "outputs": [],
   "source": [],
   "metadata": {
    "collapsed": false,
    "pycharm": {
     "name": "#%%\n"
    }
   }
  }
 ],
 "metadata": {
  "kernelspec": {
   "display_name": "Python 3",
   "language": "python",
   "name": "python3"
  },
  "language_info": {
   "codemirror_mode": {
    "name": "ipython",
    "version": 2
   },
   "file_extension": ".py",
   "mimetype": "text/x-python",
   "name": "python",
   "nbconvert_exporter": "python",
   "pygments_lexer": "ipython2",
   "version": "2.7.6"
  }
 },
 "nbformat": 4,
 "nbformat_minor": 0
}